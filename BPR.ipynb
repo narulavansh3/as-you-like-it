{
 "cells": [
  {
   "cell_type": "code",
   "execution_count": 1,
   "metadata": {},
   "outputs": [
    {
     "name": "stderr",
     "output_type": "stream",
     "text": [
      "C:\\Users\\Vansh Narula\\AppData\\Local\\conda\\conda\\envs\\tf_gpu\\lib\\site-packages\\lightfm\\_lightfm_fast.py:9: UserWarning: LightFM was compiled without OpenMP support. Only a single thread will be used.\n",
      "  warnings.warn('LightFM was compiled without OpenMP support. '\n"
     ]
    }
   ],
   "source": [
    "from lightfm import LightFM"
   ]
  },
  {
   "cell_type": "code",
   "execution_count": 2,
   "metadata": {},
   "outputs": [],
   "source": [
    "import os\n",
    "import zipfile\n",
    "import csv\n",
    "\n",
    "import requests\n",
    "\n",
    "def get_data():\n",
    "    \n",
    "        return (\n",
    "            csv.DictReader(x for x in open('new_ratings.csv', newline='')),\n",
    "            csv.DictReader((x for x in open('embedding.csv', newline=\"\"))),\n",
    "        )\n",
    "\n",
    "\n",
    "def get_ratings():\n",
    "\n",
    "    return get_data()[0]\n",
    "\n",
    "\n",
    "def get_movie_features():\n",
    "\n",
    "    return get_data()[1]"
   ]
  },
  {
   "cell_type": "code",
   "execution_count": 3,
   "metadata": {},
   "outputs": [],
   "source": [
    "import json\n",
    "from itertools import islice\n",
    "\n",
    "# with open('train_movie.csv', newline='') as csvfile:\n",
    "# reader2 = csv.DictReader(x for x in open('train_movie.csv', newline=''))\n",
    "# movie_features = csv.DictReader((x for x in open('movies_info.csv', newline=\"\")),delimiter=\"\\t\")\n",
    "# for x in movie_features:\n",
    "#     print(x)\n",
    "\n",
    "reader,movie_features = get_data()\n"
   ]
  },
  {
   "cell_type": "code",
   "execution_count": 4,
   "metadata": {},
   "outputs": [
    {
     "name": "stdout",
     "output_type": "stream",
     "text": [
      "{\n",
      "    \"user_id\": \"4\",\n",
      "    \"book_id\": \"70\",\n",
      "    \"rating\": \"4\"\n",
      "}\n",
      "{\n",
      "    \"user_id\": \"4\",\n",
      "    \"book_id\": \"264\",\n",
      "    \"rating\": \"3\"\n",
      "}\n"
     ]
    }
   ],
   "source": [
    "for line in islice(reader, 2):\n",
    "    print(json.dumps(line, indent=4))"
   ]
  },
  {
   "cell_type": "code",
   "execution_count": 5,
   "metadata": {},
   "outputs": [
    {
     "name": "stdout",
     "output_type": "stream",
     "text": [
      "{\n",
      "    \"book_id\": \"1\",\n",
      "    \"embeddings\": \"[-3.6751375e-02 -2.6640910e-01  1.9817963e-01  2.3172754e-01\\r\\n  3.2512277e-01 -1.6533449e-01 -6.9004215e-02 -6.2199039e-03\\r\\n  2.8828798e-02 -4.5724803e-01  6.4509317e-02 -3.6452550e-01\\r\\n -7.4834406e-02 -3.5423439e-03  1.6090445e-01  1.3766357e-01\\r\\n  6.6039595e-03 -1.9071519e-02 -5.9100904e-02  1.0679536e-02\\r\\n  2.0115265e-01  2.3649640e-01  1.4553389e-01  1.2703294e-01\\r\\n  2.5599179e-01 -2.5997132e-03  1.6416980e-02  7.8967191e-02\\r\\n -3.9393973e-02 -1.1838774e-01  2.5008342e-01 -3.6555097e-02\\r\\n -1.7071323e-01  9.8176055e-02  6.3870497e-02 -1.2785308e-01\\r\\n -1.9390856e-01  2.5614700e-01  4.8297748e-02  7.8030829e-03\\r\\n -1.9730476e-01 -8.3261371e-02 -1.2594897e-01 -1.9532961e-01\\r\\n  6.1551351e-02  1.9691898e-01 -3.2243494e-02 -2.0279317e-01\\r\\n  5.4989889e-02 -1.7494653e-01 -1.3510884e-01  2.5696206e-01\\r\\n -3.1229377e-01  2.2244476e-01 -6.6466965e-02  3.5466227e-01\\r\\n  2.5924814e-01  2.6181552e-01  1.5850952e-01  3.1896405e-02\\r\\n -4.6003420e-02 -3.8298514e-02  2.6526261e-02  1.5076935e-01\\r\\n -2.2960858e-02 -2.7585458e-02  1.4686538e-01 -7.5346287e-03\\r\\n  3.0313104e-01  6.1109513e-02 -1.5297897e-01  8.9169227e-02\\r\\n  3.9001416e-02  1.6554548e-01  1.0980951e-01  2.1134177e-01\\r\\n -1.3545869e-01  7.1366668e-02  4.8052356e-02  1.0821835e-01\\r\\n -4.4132791e-02  2.6491609e-01 -8.6647570e-02 -1.3317093e-01\\r\\n -6.0437508e-02 -2.5632820e-01 -2.9301938e-01 -2.9593635e-01\\r\\n -2.6136714e-01 -9.3067504e-02  1.0818750e-01 -2.1539493e-02\\r\\n -7.6750591e-02  1.2953331e-02  1.2968782e-02 -1.9316015e-01\\r\\n  1.8241335e-01 -1.9199366e-02 -1.9703950e-01 -2.1335185e-02\\r\\n  4.0513746e-02 -1.1358869e-01  7.7371195e-02  3.1021142e-01\\r\\n -2.1392331e-01 -1.9588243e-02  2.8828489e-02 -2.1632695e-01\\r\\n  4.1019831e-02  2.8459486e-04 -1.4514288e-01 -9.4268322e-03\\r\\n -2.5093796e-02  2.3002087e-01  5.3790271e-02 -1.7992161e-01\\r\\n  1.5763086e-01 -3.3308942e-02 -1.9380170e-01 -5.9963737e-02\\r\\n  7.9948425e-02  4.2872870e-01 -4.7924429e-02 -1.2858006e-02\\r\\n -4.4090800e-02]\"\n",
      "}\n"
     ]
    }
   ],
   "source": [
    "for line in islice(movie_features, 1):\n",
    "    print(json.dumps(line, indent=4))"
   ]
  },
  {
   "cell_type": "code",
   "execution_count": 6,
   "metadata": {},
   "outputs": [],
   "source": [
    "from lightfm.data import Dataset\n",
    "\n",
    "dataset = Dataset()\n",
    "dataset.fit((x['user_id'] for x in get_ratings()),\n",
    "            (x['book_id'] for x in get_ratings()))"
   ]
  },
  {
   "cell_type": "code",
   "execution_count": 7,
   "metadata": {},
   "outputs": [
    {
     "name": "stdout",
     "output_type": "stream",
     "text": [
      "Num users: 10000, num_items 6176.\n"
     ]
    }
   ],
   "source": [
    "num_users, num_items = dataset.interactions_shape()\n",
    "print('Num users: {}, num_items {}.'.format(num_users, num_items))"
   ]
  },
  {
   "cell_type": "code",
   "execution_count": 8,
   "metadata": {},
   "outputs": [],
   "source": [
    "dataset.fit_partial(items=(x['book_id'] for x in get_movie_features()),\n",
    "                    item_features=(x['embeddings'] for x in get_movie_features()))"
   ]
  },
  {
   "cell_type": "code",
   "execution_count": 10,
   "metadata": {},
   "outputs": [],
   "source": [
    "# dataset.fit_partial(items=(x['book_id'] for x in get_movie_features()),item_features=(x['title'] for x in get_movie_features()))"
   ]
  },
  {
   "cell_type": "code",
   "execution_count": 9,
   "metadata": {},
   "outputs": [],
   "source": [
    "(interactions, weights) = dataset.build_interactions((x['user_id'], x['book_id'], float(x['rating']))\n",
    "                                                      for x in get_ratings())\n"
   ]
  },
  {
   "cell_type": "code",
   "execution_count": 10,
   "metadata": {},
   "outputs": [
    {
     "name": "stdout",
     "output_type": "stream",
     "text": [
      "<6176x12352 sparse matrix of type '<class 'numpy.float32'>'\n",
      "\twith 12352 stored elements in Compressed Sparse Row format>\n"
     ]
    }
   ],
   "source": [
    "item_features = dataset.build_item_features(((x['book_id'], [x['embeddings']])\n",
    "                                              for x in get_movie_features()))\n",
    "print(repr(item_features))"
   ]
  },
  {
   "cell_type": "code",
   "execution_count": 11,
   "metadata": {},
   "outputs": [
    {
     "data": {
      "text/plain": [
       "<lightfm.lightfm.LightFM at 0x2036b7cea90>"
      ]
     },
     "execution_count": 11,
     "metadata": {},
     "output_type": "execute_result"
    }
   ],
   "source": [
    "from lightfm import LightFM\n",
    "model = LightFM(learning_rate=0.01, loss='bpr', no_components = 20)\n",
    "\n",
    "model.fit(interactions, item_features=item_features, epochs=500, num_threads=4)"
   ]
  },
  {
   "cell_type": "code",
   "execution_count": null,
   "metadata": {},
   "outputs": [],
   "source": [
    "from lightfm import LightFM\n",
    "model = LightFM(learning_rate=0.01, loss='bpr', no_components = 20)\n",
    "\n",
    "model.fit(interactions, epochs=500)"
   ]
  },
  {
   "cell_type": "code",
   "execution_count": 17,
   "metadata": {},
   "outputs": [
    {
     "name": "stdout",
     "output_type": "stream",
     "text": [
      "0.75752\n"
     ]
    }
   ],
   "source": [
    "from lightfm.evaluation import precision_at_k\n",
    "train_precision = precision_at_k(model, interactions, k=5).mean()\n",
    "print(train_precision)"
   ]
  },
  {
   "cell_type": "code",
   "execution_count": 14,
   "metadata": {},
   "outputs": [
    {
     "name": "stdout",
     "output_type": "stream",
     "text": [
      "0.76334006\n"
     ]
    }
   ],
   "source": [
    "from lightfm.evaluation import precision_at_k,auc_score\n",
    "train_precision = precision_at_k(model, interactions,item_features=item_features, k=5).mean()\n",
    "print(train_precision)"
   ]
  },
  {
   "cell_type": "code",
   "execution_count": 18,
   "metadata": {},
   "outputs": [
    {
     "name": "stdout",
     "output_type": "stream",
     "text": [
      "0.89994687\n"
     ]
    }
   ],
   "source": [
    "train_auc = auc_score(model, interactions,item_features=item_features).mean()\n",
    "print(train_auc)"
   ]
  },
  {
   "cell_type": "code",
   "execution_count": null,
   "metadata": {},
   "outputs": [],
   "source": []
  }
 ],
 "metadata": {
  "kernelspec": {
   "display_name": "Python 3",
   "language": "python",
   "name": "python3"
  },
  "language_info": {
   "codemirror_mode": {
    "name": "ipython",
    "version": 3
   },
   "file_extension": ".py",
   "mimetype": "text/x-python",
   "name": "python",
   "nbconvert_exporter": "python",
   "pygments_lexer": "ipython3",
   "version": "3.6.8"
  }
 },
 "nbformat": 4,
 "nbformat_minor": 2
}
